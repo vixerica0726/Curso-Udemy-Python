{
  "nbformat": 4,
  "nbformat_minor": 0,
  "metadata": {
    "colab": {
      "provenance": [],
      "authorship_tag": "ABX9TyMS9j+LOUGGziLXZ3UoyOEV",
      "include_colab_link": true
    },
    "kernelspec": {
      "name": "python3",
      "display_name": "Python 3"
    },
    "language_info": {
      "name": "python"
    }
  },
  "cells": [
    {
      "cell_type": "markdown",
      "metadata": {
        "id": "view-in-github",
        "colab_type": "text"
      },
      "source": [
        "<a href=\"https://colab.research.google.com/github/vixerica0726/Curso-Udemy-Python/blob/main/texto.ipynb\" target=\"_parent\"><img src=\"https://colab.research.google.com/assets/colab-badge.svg\" alt=\"Open In Colab\"/></a>"
      ]
    },
    {
      "cell_type": "code",
      "execution_count": 1,
      "metadata": {
        "id": "x7WyalrMuRgB",
        "colab": {
          "base_uri": "https://localhost:8080/"
        },
        "outputId": "95d0e269-fd64-48f3-8175-14d71bd1461d"
      },
      "outputs": [
        {
          "output_type": "stream",
          "name": "stdout",
          "text": [
            "Luiz, o preço é R$1000.96\n",
            "O hexadecimal de 1500 é 000005DC\n"
          ]
        }
      ],
      "source": [
        "\"\"\"\n",
        "Interpolação básica de strings\n",
        "s - string\n",
        "d e i - int\n",
        "f - float\n",
        "x e X - Hexadecimal (ABCDEF0123456789)\n",
        "\"\"\"\n",
        "nome = 'Luiz'\n",
        "preco = 1000.95897643\n",
        "variavel = '%s, o preço é R$%.2f' % (nome, preco)\n",
        "print(variavel)\n",
        "print('O hexadecimal de %d é %08X' % (1500, 1500))"
      ]
    },
    {
      "cell_type": "code",
      "source": [
        "# Interpolação estilo antigo (usando %)\n",
        "\n",
        "nome = \"Erica\"\n",
        "idade = 25\n",
        "preco = 1234.567\n",
        "\n",
        "# %s para string, %d para inteiro, %.2f para float com 2 casas decimais\n",
        "mensagem1 = \"%s tem %d anos e o preço é R$%.2f\" % (nome, idade, preco)\n",
        "print(mensagem1)\n",
        "\n",
        "# Mostrando um número em hexadecimal com 8 dígitos, preenchido com zeros\n",
        "numero = 1500\n",
        "mensagem2 = \"O hexadecimal de %d é %08X\" % (numero, numero)\n",
        "print(mensagem2)\n"
      ],
      "metadata": {
        "colab": {
          "base_uri": "https://localhost:8080/"
        },
        "id": "fm3vkSPtzxdp",
        "outputId": "e064177a-7246-49b0-e72c-1a2e292d15da"
      },
      "execution_count": 6,
      "outputs": [
        {
          "output_type": "stream",
          "name": "stdout",
          "text": [
            "Erica tem 25 anos e o preço é R$1234.57\n",
            "O hexadecimal de 1500 é 000005DC\n"
          ]
        }
      ]
    },
    {
      "cell_type": "code",
      "source": [
        "# Interpolação com format()\n",
        "\n",
        "mensagem3 = \"{} tem {} anos e o preço é R${:.2f}\".format(nome, idade, preco)\n",
        "print(mensagem3)\n",
        "\n",
        "# Usando nomes nas chaves (mais legível)\n",
        "mensagem4 = \"{n} tem {i} anos e o preço é R${p:.2f}\".format(n=nome, i=idade, p=preco)\n",
        "print(mensagem4)\n"
      ],
      "metadata": {
        "colab": {
          "base_uri": "https://localhost:8080/"
        },
        "id": "oMpsmO0o1ssU",
        "outputId": "f6f6d21c-b827-4c8e-dc9b-6fa91d7465e5"
      },
      "execution_count": 7,
      "outputs": [
        {
          "output_type": "stream",
          "name": "stdout",
          "text": [
            "Erica tem 25 anos e o preço é R$1234.57\n",
            "Erica tem 25 anos e o preço é R$1234.57\n"
          ]
        }
      ]
    },
    {
      "cell_type": "code",
      "source": [
        "# Interpolação moderna com f-string (Python 3.6+)\n",
        "\n",
        "mensagem5 = f\"{nome} tem {idade} anos e o preço é R${preco:.2f}\"\n",
        "print(mensagem5)\n",
        "\n",
        "# Com expressão dentro da f-string\n",
        "mensagem6 = f\"Daqui 5 anos, {nome} terá {idade + 5} anos.\"\n",
        "print(mensagem6)\n",
        "\n",
        "# Com alinhamento: nome centralizado em 20 espaços, preenchido com \"-\"\n",
        "mensagem7 = f\"{nome:-^20}\"\n",
        "print(mensagem7)\n"
      ],
      "metadata": {
        "colab": {
          "base_uri": "https://localhost:8080/"
        },
        "id": "18ja0IkL1xOy",
        "outputId": "6823330b-d3f3-41f7-9d7c-23e1d98e9371"
      },
      "execution_count": 8,
      "outputs": [
        {
          "output_type": "stream",
          "name": "stdout",
          "text": [
            "Erica tem 25 anos e o preço é R$1234.57\n",
            "Daqui 5 anos, Erica terá 30 anos.\n",
            "-------Erica--------\n"
          ]
        }
      ]
    }
  ]
}