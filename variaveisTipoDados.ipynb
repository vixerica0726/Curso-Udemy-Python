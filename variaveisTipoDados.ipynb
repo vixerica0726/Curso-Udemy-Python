{
  "nbformat": 4,
  "nbformat_minor": 0,
  "metadata": {
    "colab": {
      "provenance": [],
      "authorship_tag": "ABX9TyNd2tkkpuMNjOZr7XHeM9Tr",
      "include_colab_link": true
    },
    "kernelspec": {
      "name": "python3",
      "display_name": "Python 3"
    },
    "language_info": {
      "name": "python"
    }
  },
  "cells": [
    {
      "cell_type": "markdown",
      "metadata": {
        "id": "view-in-github",
        "colab_type": "text"
      },
      "source": [
        "<a href=\"https://colab.research.google.com/github/vixerica0726/Curso-Udemy-Python/blob/main/variaveisTipoDados.ipynb\" target=\"_parent\"><img src=\"https://colab.research.google.com/assets/colab-badge.svg\" alt=\"Open In Colab\"/></a>"
      ]
    },
    {
      "cell_type": "code",
      "execution_count": 7,
      "metadata": {
        "colab": {
          "base_uri": "https://localhost:8080/"
        },
        "id": "D7OkMuHmrtdR",
        "outputId": "5c852df6-bfd9-456d-f14f-1c2984486924"
      },
      "outputs": [
        {
          "output_type": "stream",
          "name": "stdout",
          "text": [
            "Nome: Erica\n",
            "Sobrenome: Felix\n",
            "Idade: 29\n",
            "Ano de nascimento: 1995\n",
            "É maior de idade? True\n",
            "Altura em metros: 1.55\n"
          ]
        }
      ],
      "source": [
        "# Exercício: variáveis e tipos de dados\n",
        "# Aula 08, curso udemy Python\n",
        "\n",
        "nome = 'Erica'\n",
        "sobrenome = 'Felix'\n",
        "idade = 29\n",
        "ano_nascimento = 1995\n",
        "maior_de_idade = idade >= 18\n",
        "altura_metros = 1.55\n",
        "\n",
        "print('Nome:', nome)\n",
        "print('Sobrenome:', sobrenome)\n",
        "print('Idade:', idade)\n",
        "print('Ano de nascimento:', ano_nascimento)\n",
        "print('É maior de idade?', maior_de_idade)\n",
        "print('Altura em metros:', altura_metros)"
      ]
    }
  ]
}