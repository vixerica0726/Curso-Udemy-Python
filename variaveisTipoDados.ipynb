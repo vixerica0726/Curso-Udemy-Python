{
  "nbformat": 4,
  "nbformat_minor": 0,
  "metadata": {
    "colab": {
      "provenance": [],
      "authorship_tag": "ABX9TyNfVHLNYhzOtUUqNdG6IqSY",
      "include_colab_link": true
    },
    "kernelspec": {
      "name": "python3",
      "display_name": "Python 3"
    },
    "language_info": {
      "name": "python"
    }
  },
  "cells": [
    {
      "cell_type": "markdown",
      "metadata": {
        "id": "view-in-github",
        "colab_type": "text"
      },
      "source": [
        "<a href=\"https://colab.research.google.com/github/vixerica0726/Curso-Udemy-Python/blob/main/variaveisTipoDados.ipynb\" target=\"_parent\"><img src=\"https://colab.research.google.com/assets/colab-badge.svg\" alt=\"Open In Colab\"/></a>"
      ]
    },
    {
      "cell_type": "code",
      "execution_count": 13,
      "metadata": {
        "colab": {
          "base_uri": "https://localhost:8080/"
        },
        "id": "D7OkMuHmrtdR",
        "outputId": "a4343f8e-fb06-4e22-f1d7-9a0970b0ed18"
      },
      "outputs": [
        {
          "output_type": "stream",
          "name": "stdout",
          "text": [
            "Nome: Erica\n",
            "Sobrenome: Felix\n",
            "Idade: 29\n",
            "Ano de nascimento: 1995\n",
            "É maior de idade? True\n",
            "Altura em metros: 1.55 \n",
            "\n",
            "Tipos dos dados\n",
            "<class 'str'>\n",
            "<class 'str'>\n",
            "<class 'int'>\n",
            "<class 'int'>\n",
            "<class 'bool'>\n",
            "<class 'float'>\n"
          ]
        }
      ],
      "source": [
        "# Exercício: variáveis e tipos de dados\n",
        "# Aula 08, curso udemy Python\n",
        "\n",
        "nome = 'Erica'\n",
        "sobrenome = 'Felix'\n",
        "idade = 29\n",
        "ano_nascimento = 1995\n",
        "maior_de_idade = idade >= 18\n",
        "altura_metros = 1.55\n",
        "\n",
        "print('Nome:', nome)\n",
        "print('Sobrenome:', sobrenome)\n",
        "print('Idade:', idade)\n",
        "print('Ano de nascimento:', ano_nascimento)\n",
        "print('É maior de idade?', maior_de_idade)\n",
        "print('Altura em metros:', altura_metros,'\\n')\n",
        "\n",
        "\n",
        "print('Tipos dos dados')\n",
        "print(type(nome))\n",
        "print(type(sobrenome))\n",
        "print(type(idade))\n",
        "print(type(ano_nascimento))\n",
        "print(type(maior_de_idade))\n",
        "print(type(altura_metros))"
      ]
    }
  ]
}