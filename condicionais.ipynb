{
  "nbformat": 4,
  "nbformat_minor": 0,
  "metadata": {
    "colab": {
      "provenance": [],
      "authorship_tag": "ABX9TyNXoCBNe7Bl6VibGpuR7S4+",
      "include_colab_link": true
    },
    "kernelspec": {
      "name": "python3",
      "display_name": "Python 3"
    },
    "language_info": {
      "name": "python"
    }
  },
  "cells": [
    {
      "cell_type": "markdown",
      "metadata": {
        "id": "view-in-github",
        "colab_type": "text"
      },
      "source": [
        "<a href=\"https://colab.research.google.com/github/vixerica0726/Curso-Udemy-Python/blob/main/condicionais.ipynb\" target=\"_parent\"><img src=\"https://colab.research.google.com/assets/colab-badge.svg\" alt=\"Open In Colab\"/></a>"
      ]
    },
    {
      "cell_type": "code",
      "execution_count": 7,
      "metadata": {
        "colab": {
          "base_uri": "https://localhost:8080/"
        },
        "id": "hOLWqfPhq68o",
        "outputId": "ea5649df-f9b8-44b3-df97-53639662c9bf"
      },
      "outputs": [
        {
          "output_type": "stream",
          "name": "stdout",
          "text": [
            "Você quer \"entrar\" ou \"sair\"? e\n",
            "Entrada inválida\n"
          ]
        }
      ],
      "source": [
        "# Blocos de de código + condicionas\n",
        "\n",
        "# if/   elif    /else\n",
        "# se, se não se, senão\n",
        "\n",
        "entrada = input('Você quer \"entrar\" ou \"sair\"? ')\n",
        "\n",
        "if entrada == 'entrar':\n",
        "    print('Você entrou no sistema')\n",
        "\n",
        "elif entrada == 'sair':\n",
        "    print('Você saiu do sistema')\n",
        "\n",
        "else:\n",
        "    print('Entrada inválida')\n"
      ]
    },
    {
      "cell_type": "code",
      "source": [
        "# Fluxo de condicionais\n",
        "\n",
        "condicao1 = False\n",
        "condicao2 = True\n",
        "\n",
        "if condicao1:\n",
        "    print('Condicão verdadeira')\n",
        "else:\n",
        "    print('Condição falsa')\n",
        "\n",
        "if 10 == 10:\n",
        "    print('\\nOutro if')\n",
        "\n",
        "print('\\nFora do IF')\n",
        "\n",
        "# Se uma codição True executa o bloco de código, se a primeira não for, pula para o segundo bloco, e por fim op else."
      ],
      "metadata": {
        "colab": {
          "base_uri": "https://localhost:8080/"
        },
        "id": "7iGqkR4VtqFJ",
        "outputId": "d71fafeb-78a9-4f04-a40a-3eb2ba79e9e8"
      },
      "execution_count": 22,
      "outputs": [
        {
          "output_type": "stream",
          "name": "stdout",
          "text": [
            "Condição falsa\n",
            "\n",
            "Outro if\n",
            "\n",
            "Fora do IF\n"
          ]
        }
      ]
    }
  ]
}