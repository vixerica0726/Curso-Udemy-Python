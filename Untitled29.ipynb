{
  "nbformat": 4,
  "nbformat_minor": 0,
  "metadata": {
    "colab": {
      "provenance": [],
      "authorship_tag": "ABX9TyNWe3CGwp1XFR5qscBAj/BG",
      "include_colab_link": true
    },
    "kernelspec": {
      "name": "python3",
      "display_name": "Python 3"
    },
    "language_info": {
      "name": "python"
    }
  },
  "cells": [
    {
      "cell_type": "markdown",
      "metadata": {
        "id": "view-in-github",
        "colab_type": "text"
      },
      "source": [
        "<a href=\"https://colab.research.google.com/github/vixerica0726/Curso-Udemy-Python/blob/main/Untitled29.ipynb\" target=\"_parent\"><img src=\"https://colab.research.google.com/assets/colab-badge.svg\" alt=\"Open In Colab\"/></a>"
      ]
    },
    {
      "cell_type": "code",
      "execution_count": 8,
      "metadata": {
        "colab": {
          "base_uri": "https://localhost:8080/"
        },
        "id": "xmQ4vgqmcO99",
        "outputId": "30b6ebdc-a481-4ab4-f205-d78e56ec961c"
      },
      "outputs": [
        {
          "output_type": "stream",
          "name": "stdout",
          "text": [
            "Erica Felix tem 1.55 de altura e pesa 65 e seu IMC é 27.055150884495315\n"
          ]
        }
      ],
      "source": [
        "# Exercício IMC\n",
        "\n",
        "nome = 'Erica Felix'\n",
        "altura = 1.55\n",
        "peso = 65\n",
        "imc = peso / (altura * altura )\n",
        "\n",
        "print(nome, 'tem', altura, 'de altura e pesa', peso, 'e seu IMC é', imc)"
      ]
    }
  ]
}