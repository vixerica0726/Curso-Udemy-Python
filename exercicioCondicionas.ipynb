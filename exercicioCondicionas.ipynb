{
  "nbformat": 4,
  "nbformat_minor": 0,
  "metadata": {
    "colab": {
      "provenance": [],
      "gpuType": "T4",
      "authorship_tag": "ABX9TyPUjO8h+q0GXdnO/00ZdDuW",
      "include_colab_link": true
    },
    "kernelspec": {
      "name": "python3",
      "display_name": "Python 3"
    },
    "language_info": {
      "name": "python"
    },
    "accelerator": "GPU"
  },
  "cells": [
    {
      "cell_type": "markdown",
      "metadata": {
        "id": "view-in-github",
        "colab_type": "text"
      },
      "source": [
        "<a href=\"https://colab.research.google.com/github/vixerica0726/Curso-Udemy-Python/blob/main/exercicioCondicionas.ipynb\" target=\"_parent\"><img src=\"https://colab.research.google.com/assets/colab-badge.svg\" alt=\"Open In Colab\"/></a>"
      ]
    },
    {
      "cell_type": "code",
      "execution_count": null,
      "metadata": {
        "colab": {
          "base_uri": "https://localhost:8080/"
        },
        "id": "4myASUw3K-t8",
        "outputId": "c8bd60ae-4ff7-4ef9-92c5-faf0ced041d4"
      },
      "outputs": [
        {
          "output_type": "stream",
          "name": "stdout",
          "text": [
            "False\n",
            "False\n",
            "True\n",
            "True\n",
            "False\n",
            "True\n"
          ]
        }
      ],
      "source": [
        "# Operdadore sde comparação\n",
        "# >, >=, <, <=, ==, !=\n",
        "\n",
        "maior = 2 > 5\n",
        "maior_igual = 2 >= 5\n",
        "menor = 2 < 5\n",
        "menor_igual = 2 <= 5\n",
        "igual = 2 == 5\n",
        "diferente = 2 != 5\n",
        "\n",
        "print(maior)\n",
        "print(maior_igual)\n",
        "print(menor)\n",
        "print(menor_igual)\n",
        "print(igual)\n",
        "print(diferente)"
      ]
    },
    {
      "cell_type": "code",
      "source": [
        "# Exercício condicionais, minha resolução\n",
        "valor_um = input('Digite o primeiro valor: ')\n",
        "valor_dois = input('Digite o segundo valor: ')\n",
        "\n",
        "if valor_um > valor_dois:\n",
        "  print(f'O valor {valor_um} é maior que o valor dois {valor_dois} ! ')\n",
        "elif valor_um < valor_dois:\n",
        "  print(f'O valor um é menor {valor_dois} que o valor dois  {valor_um} !')\n",
        "else:\n",
        "  print('Os valores são iguais!')\n",
        "\n",
        "\n",
        "\n"
      ],
      "metadata": {
        "colab": {
          "base_uri": "https://localhost:8080/"
        },
        "id": "OXa1nqNsNW5G",
        "outputId": "85ba6948-0ecd-4c03-9058-59ea9a0ba551"
      },
      "execution_count": null,
      "outputs": [
        {
          "output_type": "stream",
          "name": "stdout",
          "text": [
            "Digite o primeiro valor: 65\n",
            "Digite o segundo valor: 95\n",
            "O valor um é menor 95 que o valor dois  65 !\n"
          ]
        }
      ]
    },
    {
      "cell_type": "code",
      "source": [
        "# Resolucão do professor\n",
        "primeiro_valor = input('Digite o primeiro valor: ')\n",
        "segundo_valor = input('Digite o segundo valor: ')\n",
        "\n",
        "if primeiro_valor > segundo_valor:\n",
        "  print(f'{primeiro_valor} é maior que {segundo_valor}')\n",
        "else:\n",
        "  print(f'{segundo_valor} é maior que {primeiro_valor}')\n",
        "\n"
      ],
      "metadata": {
        "colab": {
          "base_uri": "https://localhost:8080/"
        },
        "id": "7ndYmeficg2j",
        "outputId": "f2ff541f-76d1-4243-bd52-58275ec08d26"
      },
      "execution_count": null,
      "outputs": [
        {
          "output_type": "stream",
          "name": "stdout",
          "text": [
            "Digite o primeiro valor: 15\n",
            "Digite o segundo valor: 63\n",
            "63 é maior que 15\n"
          ]
        }
      ]
    }
  ]
}