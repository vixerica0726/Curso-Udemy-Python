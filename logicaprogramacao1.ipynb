{
  "nbformat": 4,
  "nbformat_minor": 0,
  "metadata": {
    "colab": {
      "provenance": [],
      "authorship_tag": "ABX9TyP20m/aypFa7M54XvqnVQZt",
      "include_colab_link": true
    },
    "kernelspec": {
      "name": "python3",
      "display_name": "Python 3"
    },
    "language_info": {
      "name": "python"
    }
  },
  "cells": [
    {
      "cell_type": "markdown",
      "metadata": {
        "id": "view-in-github",
        "colab_type": "text"
      },
      "source": [
        "<a href=\"https://colab.research.google.com/github/vixerica0726/Curso-Udemy-Python/blob/main/logicaprogramacao1.ipynb\" target=\"_parent\"><img src=\"https://colab.research.google.com/assets/colab-badge.svg\" alt=\"Open In Colab\"/></a>"
      ]
    },
    {
      "cell_type": "code",
      "execution_count": 5,
      "metadata": {
        "colab": {
          "base_uri": "https://localhost:8080/"
        },
        "id": "_MdDCOBqeueT",
        "outputId": "bd2a60ec-8811-452f-877d-be7c4f4d02c9"
      },
      "outputs": [
        {
          "output_type": "stream",
          "name": "stdout",
          "text": [
            "Erica Felix, tem 1.55 de altura e pesa 65,seu é 27.06\n"
          ]
        }
      ],
      "source": [
        "# f-strings\n",
        "# formatação de strings\n",
        "\n",
        "nome = 'Erica Felix'\n",
        "altura = 1.55\n",
        "peso = 65\n",
        "imc = peso / (altura * altura )\n",
        "\n",
        "print(f'{nome}, tem {altura} de altura e pesa {peso},seu é {imc:.2f}')\n"
      ]
    },
    {
      "cell_type": "code",
      "source": [
        "# função .format\n",
        "# O método .format() é uma forma de criar strings formatadas em Python.\n",
        "# Ele permite inserir valores em uma string de formato usando marcadores de posição {}.\n",
        "\n",
        "a = 'A'\n",
        "b = 'B'\n",
        "c = 1.20155\n",
        "formato = ' '\n",
        "\n",
        "print('Como funciona o string.format = {}, {}, {}'.format(a,b,c))\n",
        "\n",
        "# toda função dentro de um objeto e chamada de método"
      ],
      "metadata": {
        "colab": {
          "base_uri": "https://localhost:8080/"
        },
        "id": "OuxZa-4xge1Q",
        "outputId": "6bca68ec-e2c7-4605-d270-099ce14eead5"
      },
      "execution_count": 14,
      "outputs": [
        {
          "output_type": "stream",
          "name": "stdout",
          "text": [
            "Como funciona o string.format = A, B, 1.20155\n"
          ]
        }
      ]
    },
    {
      "cell_type": "code",
      "source": [
        "# Coletar dados com input\n",
        "\n",
        "nome = input('Qual o seu nome? ')\n",
        "\n",
        "print(f'Olá {nome}')\n"
      ],
      "metadata": {
        "colab": {
          "base_uri": "https://localhost:8080/"
        },
        "id": "7oyjrYaeoDcc",
        "outputId": "1d2f13cb-36be-42d2-9647-ea8c4a25355f"
      },
      "execution_count": 25,
      "outputs": [
        {
          "output_type": "stream",
          "name": "stdout",
          "text": [
            "Qual o seu nome? Erica \n",
            "Olá Erica \n"
          ]
        }
      ]
    },
    {
      "cell_type": "code",
      "source": [
        "numero1 = input('Digite um número: ')\n",
        "numero2 = input('Digite outro número: ')\n",
        "\n",
        "print('A soma dos números é: ', numero1 + numero2) # concatena em string\n",
        "print(f'A soma dos números é: {int(numero1) + int(numero2)}')"
      ],
      "metadata": {
        "colab": {
          "base_uri": "https://localhost:8080/"
        },
        "id": "73pLQHZnpsVg",
        "outputId": "80a10cc9-21e2-4661-fe14-6aaf069b9e54"
      },
      "execution_count": 26,
      "outputs": [
        {
          "output_type": "stream",
          "name": "stdout",
          "text": [
            "Digite um número: 15\n",
            "Digite outro número: 15\n",
            "A soma dos números é:  1515\n",
            "A soma dos números é: 30\n"
          ]
        }
      ]
    },
    {
      "cell_type": "code",
      "source": [
        "numero1 = input('Digite um número: ')\n",
        "numero2 = input('Digite outro número: ')\n",
        "\n",
        "# converter o tipo de str para int\n",
        "int_numero1 = int(numero1)\n",
        "int_numero2 = int(numero2)\n",
        "\n",
        "print('A soma dos números é:', int_numero1 + int_numero2)"
      ],
      "metadata": {
        "colab": {
          "base_uri": "https://localhost:8080/"
        },
        "id": "dPZr6Ge-p4mI",
        "outputId": "9cdd93cd-c465-4e63-a69f-410f37b67761"
      },
      "execution_count": 34,
      "outputs": [
        {
          "output_type": "stream",
          "name": "stdout",
          "text": [
            "Digite um número: 15\n",
            "Digite outro número: 15\n",
            "A soma dos números é: 30\n"
          ]
        }
      ]
    }
  ]
}