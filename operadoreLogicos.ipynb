{
  "nbformat": 4,
  "nbformat_minor": 0,
  "metadata": {
    "colab": {
      "provenance": [],
      "authorship_tag": "ABX9TyOgGvfLdnhoaT2I5u/WYzyr",
      "include_colab_link": true
    },
    "kernelspec": {
      "name": "python3",
      "display_name": "Python 3"
    },
    "language_info": {
      "name": "python"
    }
  },
  "cells": [
    {
      "cell_type": "markdown",
      "metadata": {
        "id": "view-in-github",
        "colab_type": "text"
      },
      "source": [
        "<a href=\"https://colab.research.google.com/github/vixerica0726/Curso-Udemy-Python/blob/main/operadoreLogicos.ipynb\" target=\"_parent\"><img src=\"https://colab.research.google.com/assets/colab-badge.svg\" alt=\"Open In Colab\"/></a>"
      ]
    },
    {
      "cell_type": "code",
      "execution_count": 2,
      "metadata": {
        "colab": {
          "base_uri": "https://localhost:8080/"
        },
        "id": "F8PwcWkBpHS1",
        "outputId": "3cdc159f-998b-4b69-8412-34159a1f1874"
      },
      "outputs": [
        {
          "output_type": "stream",
          "name": "stdout",
          "text": [
            "Senha: dfbh\n",
            "dfbh\n"
          ]
        }
      ],
      "source": [
        "# Operadores lógicos\n",
        "# and (e) or (ou) not (não)\n",
        "# or - Qualquer condição verdadeira avalia\n",
        "# toda a expressão como verdadeira.\n",
        "# Se qualquer valor for considerado verdadeiro,\n",
        "# a expressão inteira será avaliada naquele valor.\n",
        "# São considerados falsy (que vc já viu)\n",
        "# 0 0.0 '' False\n",
        "# Também existe o tipo None que é\n",
        "# usado para representar um não valor\n",
        "\n",
        "# entrada = input('[E]ntrar [S]air: ')\n",
        "# senha_digitada = input('Senha: ')\n",
        "\n",
        "# senha_permitida = '123456'\n",
        "\n",
        "# if (entrada == 'E' or entrada == 'e') and senha_digitada == senha_permitida:\n",
        "#     print('Entrar')\n",
        "# else:\n",
        "#     print('Sair')\n",
        "\n",
        "# Avaliação de curto circuito\n",
        "senha = input('Senha: ') or 'Sem senha'\n",
        "print(senha)"
      ]
    },
    {
      "cell_type": "code",
      "source": [
        "# Operador lógico \"not\"Add commentMore actions\n",
        "# Usado para inverter expressões\n",
        "# not True = False\n",
        "# not False = True\n",
        "# senha = input('Senha: ')\n",
        "print(not True)  # False\n",
        "print(not False)  # True\n"
      ],
      "metadata": {
        "colab": {
          "base_uri": "https://localhost:8080/"
        },
        "id": "cs-9zsVfqPFk",
        "outputId": "24c415aa-efb1-44d3-b5b3-eac228430431"
      },
      "execution_count": 3,
      "outputs": [
        {
          "output_type": "stream",
          "name": "stdout",
          "text": [
            "False\n",
            "True\n"
          ]
        }
      ]
    },
    {
      "cell_type": "code",
      "source": [
        "# Strings são iteráveisAdd commentMore actions\n",
        "#  0 1 2 3 4 5\n",
        "#  O t á v i o\n",
        "# -6-5-4-3-2-1\n",
        "# nome = 'Otávio'\n",
        "# print(nome[2])\n",
        "# print(nome[-4])\n",
        "# print('vio' in nome)\n",
        "# print('zero' in nome)\n",
        "# print(10 * '-')\n",
        "# print('vio' not in nome)\n",
        "# print('zero' not in nome)\n",
        "\n",
        "nome = input('Digite seu nome: ')\n",
        "encontrar = input('Digite o que deseja encontrar: ')\n",
        "\n",
        "if encontrar in nome:\n",
        "    print(f'{encontrar} está em {nome}')\n",
        "else:\n",
        "    print(f'{encontrar} não está em {nome}')"
      ],
      "metadata": {
        "colab": {
          "base_uri": "https://localhost:8080/"
        },
        "id": "jvz9AZGep94y",
        "outputId": "c94339d2-cc34-4e3e-b06f-23fe7412bbb6"
      },
      "execution_count": 1,
      "outputs": [
        {
          "output_type": "stream",
          "name": "stdout",
          "text": [
            "Digite seu nome: ERica\n",
            "Digite o que deseja encontrar: d\n",
            "d não está em ERica\n"
          ]
        }
      ]
    },
    {
      "cell_type": "code",
      "source": [
        "\n",
        "\n",
        "# Operadores lógicos \"and\", \"or\", \"not\"\n",
        "\n",
        "# \"and\" (e): Retorna True se ambas as condições forem verdadeiras.\n",
        "print(True and True)\n",
        "print(True and False)\n",
        "print(False and False)\n",
        "\n",
        "# \"or\" (ou): Retorna True se pelo menos uma das condições for verdadeira.\n",
        "print(True or True)\n",
        "print(True or False)\n",
        "print(False or False)\n",
        "\n",
        "# \"not\" (não): Inverte o valor booleano de uma expressão.\n",
        "print(not True)\n",
        "print(not False)\n",
        "\n",
        "# Exemplos práticos:\n",
        "\n",
        "# Exemplo com \"and\": Verificar se um número está dentro de um intervalo\n",
        "idade = 25\n",
        "if idade >= 18 and idade <= 30:\n",
        "    print(\"A idade está entre 18 e 30 (inclusive).\")\n",
        "else:\n",
        "    print(\"A idade não está entre 18 e 30 (inclusive).\")\n",
        "\n",
        "# Exemplo com \"or\": Verificar se um dia da semana é fim de semana\n",
        "dia_semana = \"Sábado\"\n",
        "if dia_semana == \"Sábado\" or dia_semana == \"Domingo\":\n",
        "    print(\"É fim de semana.\")\n",
        "else:\n",
        "    print(\"Não é fim de semana.\")\n",
        "\n",
        "# Exemplo com \"not\": Verificar se uma variável não é vazia\n",
        "nome = \"\"\n",
        "if not nome:\n",
        "    print(\"A variável 'nome' está vazia.\")\n",
        "else:\n",
        "    print(\"A variável 'nome' não está vazia.\")\n",
        "\n",
        "# Exemplo com múltiplos operadores lógicos:\n",
        "tem_dinheiro = True\n",
        "tem_cartao = False\n",
        "tem_desconto = True\n",
        "\n",
        "if (tem_dinheiro or tem_cartao) and tem_desconto:\n",
        "    print(\"Você pode comprar o item com desconto!\")\n",
        "else:\n",
        "    print(\"Você não pode comprar o item com desconto no momento.\")\n",
        "\n",
        "# Curto-circuito com \"or\":\n",
        "# Na expressão `a or b`, se `a` for verdadeiro, `b` não é avaliado.\n",
        "# Isso é útil para definir um valor padrão se uma variável estiver vazia ou for falsy.\n",
        "email = \"\"\n",
        "email_para_usar = email or \"padrao@exemplo.com\"\n",
        "print(f\"Email a ser usado: {email_para_usar}\")\n",
        "\n",
        "email = \"usuario@exemplo.com\"\n",
        "email_para_usar = email or \"padrao@exemplo.com\"\n",
        "print(f\"Email a ser usado: {email_para_usar}\")\n"
      ],
      "metadata": {
        "colab": {
          "base_uri": "https://localhost:8080/"
        },
        "id": "8dxgnm3VqkNb",
        "outputId": "672e64d2-164c-40e3-e389-8c9877582898"
      },
      "execution_count": 7,
      "outputs": [
        {
          "output_type": "stream",
          "name": "stdout",
          "text": [
            "True\n",
            "False\n",
            "False\n",
            "True\n",
            "True\n",
            "False\n",
            "False\n",
            "True\n",
            "A idade está entre 18 e 30 (inclusive).\n",
            "É fim de semana.\n",
            "A variável 'nome' está vazia.\n",
            "Você pode comprar o item com desconto!\n",
            "Email a ser usado: padrao@exemplo.com\n",
            "Email a ser usado: usuario@exemplo.com\n"
          ]
        }
      ]
    }
  ]
}