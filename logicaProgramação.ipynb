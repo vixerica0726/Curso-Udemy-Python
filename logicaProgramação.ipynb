{
  "nbformat": 4,
  "nbformat_minor": 0,
  "metadata": {
    "colab": {
      "private_outputs": true,
      "provenance": [],
      "authorship_tag": "ABX9TyOvqaxlqSJZFD99KxceaGKL",
      "include_colab_link": true
    },
    "kernelspec": {
      "name": "python3",
      "display_name": "Python 3"
    },
    "language_info": {
      "name": "python"
    }
  },
  "cells": [
    {
      "cell_type": "markdown",
      "metadata": {
        "id": "view-in-github",
        "colab_type": "text"
      },
      "source": [
        "<a href=\"https://colab.research.google.com/github/vixerica0726/Curso-Udemy-Python/blob/main/logicaPrograma%C3%A7%C3%A3o.ipynb\" target=\"_parent\"><img src=\"https://colab.research.google.com/assets/colab-badge.svg\" alt=\"Open In Colab\"/></a>"
      ]
    },
    {
      "cell_type": "code",
      "execution_count": null,
      "metadata": {
        "id": "yVzS6l-ER2-u"
      },
      "outputs": [],
      "source": [
        "# Permite escrever um comentário\n",
        "print(123)  # Na frente\n",
        "# Abaixo\n",
        "print(456)"
      ]
    },
    {
      "cell_type": "code",
      "source": [
        "\"\"\"\n",
        "DocString\n",
        "E escrever o que eu\n",
        "quiser\n",
        "\n",
        "\n",
        "asdfasdfd\n",
        "\"\"\"\n",
        "\n",
        "''' Usar para escrever suas notas '''\n",
        "\n",
        "# Permite escrever um comentário\n",
        "print(123)  # Na frente\n",
        "# Abaixo\n",
        "print(456)"
      ],
      "metadata": {
        "id": "TZUP26qTanFc"
      },
      "execution_count": null,
      "outputs": []
    },
    {
      "cell_type": "code",
      "source": [
        "# \\r\\n -> CRLF\n",
        "# \\n -> LF\n",
        "print(12, 34, 1011, sep=\"\", end='#')\n",
        "print(56, 78, sep='-', end='\\n')\n",
        "print(9, 10, sep='-', end='\\n')"
      ],
      "metadata": {
        "id": "YIFMglEsaqQr"
      },
      "execution_count": null,
      "outputs": []
    },
    {
      "cell_type": "code",
      "source": [
        "\n",
        "\"\"\"\n",
        "DocString\n",
        "Python = Linguagem de programação\n",
        "Tipo de tipagem = Dinâmica / Forte\n",
        "str -> string -> texto\n",
        "Strings são textos que estão dentro de aspas\n",
        "\"\"\"\n",
        "print(1234)\n",
        "\n",
        "# Aspas simples\n",
        "print('Luiz Otávio')\n",
        "print(1, 'Luiz \"Otávio\"')\n",
        "\n",
        "# Aspas duplas\n",
        "print(\"Luiz Otávio\")\n",
        "print(2, \"Luiz 'Otávio'\")\n",
        "\n",
        "# Escape\n",
        "print(\"Luiz \\\"Otávio\\\"\")\n",
        "\n",
        "# r\n",
        "print(r\"Luiz \\\"Otávio\\\"\")\n"
      ],
      "metadata": {
        "id": "I2yVx-XKax4u"
      },
      "execution_count": null,
      "outputs": []
    },
    {
      "cell_type": "code",
      "source": [
        "# Tipos int e float\n",
        "# int -> Número inteiro\n",
        "# O tipo int representa qualquer número\n",
        "# positivo ou negativo. int sem sinal é considerado\n",
        "# positivo.\n",
        "# print(11) # int\n",
        "# print(-11) # int\n",
        "# print(0)\n",
        "\n",
        "# float -> Número com ponto flutuante\n",
        "# O tipo float representa qualquer número\n",
        "# positivo ou negativo com ponto flutuante.\n",
        "# float sem sinal é considerado positivo.\n",
        "# print(1.1, 10.11)\n",
        "# print(0.0, -1.5)\n",
        "\n",
        "# A função type mostra o tipo que o Python\n",
        "# inferiu ao valor.\n",
        "print(type('Otávio'))\n",
        "print(type(0))\n",
        "print(type(1.1), type(-1.1), type(0.0))"
      ],
      "metadata": {
        "id": "x3dOBgXMa7aO"
      },
      "execution_count": null,
      "outputs": []
    },
    {
      "cell_type": "code",
      "source": [
        "\n",
        "# Tipo de dado bool (boolean)\n",
        "# Ao questionar algo em um programa,\n",
        "# só existem duas respostas possíveis:\n",
        "# sim (True) ou não (False).\n",
        "# Existem vários operadores para \"questionar\".\n",
        "# Dentre eles o ==, que é um operador lógico que\n",
        "# questiona se um valor é igual a outro\n",
        "print(10 == 10)  # Sim => True (Verdadeiro)\n",
        "print(10 == 11)  # Não => False (Falso)\n",
        "print(type(True))\n",
        "print(type(False))\n",
        "print(type(10 == 10))\n",
        "print(type(10 == 11))\n"
      ],
      "metadata": {
        "id": "4jC7I6NJa_yJ"
      },
      "execution_count": null,
      "outputs": []
    },
    {
      "cell_type": "code",
      "source": [
        "\n",
        "# conversão de tipos, coerção\n",
        "# type convertion, typecasting, coercion\n",
        "# é o ato de converter um tipo em outro\n",
        "#  tipos imutáveis e primitivos:\n",
        "# str, int, float, bool\n",
        "print(int('1'), type(int('1')))\n",
        "print(type(float('1') + 1))\n",
        "print(bool(' '))\n",
        "print(str(11) + 'b')\n"
      ],
      "metadata": {
        "id": "SzorTnY5bCtA"
      },
      "execution_count": null,
      "outputs": []
    },
    {
      "cell_type": "code",
      "source": [
        "\n",
        "# Variáveis são usadas para salvar algo na memória do computador.\n",
        "# PEP8: inicie variáveis com letras minúsculas, pode usar\n",
        "# números e underline _.\n",
        "# O sinal de = é o operador de atribuição. Ele é usado para\n",
        "# atribuir um valor a um nome (variável).\n",
        "# Uso: nome_variavel = expressão\n",
        "\n",
        "# nome_completo = 'Luiz Otávio Miranda'\n",
        "# soma_dois_mais_dois = 2 + 2\n",
        "# int_um = bool('1')\n",
        "# print(int_um, type(int_um))\n",
        "# print(nome_completo, soma_dois_mais_dois)\n",
        "\n",
        "nome = 'Luiz'\n",
        "idade = 17\n",
        "maior_de_idade = idade >= 18\n",
        "print('Nome:', nome, 'Idade:', idade)\n",
        "print('É maior?', maior_de_idade)\n"
      ],
      "metadata": {
        "id": "R1DYg43AbHIS"
      },
      "execution_count": null,
      "outputs": []
    },
    {
      "cell_type": "code",
      "source": [
        "\n",
        "adicao = 10 + 10\n",
        "print('Adição', adicao)\n",
        "\n",
        "subtracao = 10 - 5\n",
        "print('Subtração', subtracao)\n",
        "\n",
        "multiplicacao = 10 * 10\n",
        "print('Multiplicação', multiplicacao)\n",
        "\n",
        "divisao = 10 / 3  # float\n",
        "print('Divisão', divisao)\n",
        "\n",
        "divisao_inteira = 10 // 3\n",
        "print('Divisão inteira', divisao_inteira)\n",
        "\n",
        "exponenciacao = 2 ** 10\n",
        "print('Exponenciação', exponenciacao)\n",
        "\n",
        "modulo = 55 % 2  # resto da divisão\n",
        "print('Módulo', modulo)\n",
        "\n",
        "print(10 % 8 == 0)\n",
        "print(16 % 8 == 0)\n",
        "print(10 % 2 == 0)\n",
        "print(15 % 2 == 0)\n",
        "print(16 % 2 == 0)\n"
      ],
      "metadata": {
        "id": "tX6cbHHVbLvz"
      },
      "execution_count": null,
      "outputs": []
    }
  ]
}