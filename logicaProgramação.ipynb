{
  "nbformat": 4,
  "nbformat_minor": 0,
  "metadata": {
    "colab": {
      "provenance": [],
      "authorship_tag": "ABX9TyOvqaxlqSJZFD99KxceaGKL",
      "include_colab_link": true
    },
    "kernelspec": {
      "name": "python3",
      "display_name": "Python 3"
    },
    "language_info": {
      "name": "python"
    }
  },
  "cells": [
    {
      "cell_type": "markdown",
      "metadata": {
        "id": "view-in-github",
        "colab_type": "text"
      },
      "source": [
        "<a href=\"https://colab.research.google.com/github/vixerica0726/Curso-Udemy-Python/blob/main/logicaPrograma%C3%A7%C3%A3o.ipynb\" target=\"_parent\"><img src=\"https://colab.research.google.com/assets/colab-badge.svg\" alt=\"Open In Colab\"/></a>"
      ]
    },
    {
      "cell_type": "code",
      "execution_count": 13,
      "metadata": {
        "id": "yVzS6l-ER2-u",
        "colab": {
          "base_uri": "https://localhost:8080/"
        },
        "outputId": "a35c1430-4b55-4c46-cb42-e5e68ad7a9b5"
      },
      "outputs": [
        {
          "output_type": "stream",
          "name": "stdout",
          "text": [
            "123\n",
            "456\n"
          ]
        }
      ],
      "source": [
        "# Permite escrever um comentário\n",
        "print(123)  # Na frente\n",
        "# Abaixo\n",
        "print(456)"
      ]
    },
    {
      "cell_type": "code",
      "source": [
        "\"\"\"\n",
        "DocString\n",
        "E escrever o que eu\n",
        "quiser\n",
        "\n",
        "\n",
        "asdfasdfd\n",
        "\"\"\"\n",
        "\n",
        "''' Usar para escrever suas notas '''\n",
        "\n",
        "# Permite escrever um comentário\n",
        "print(123)  # Na frente\n",
        "# Abaixo\n",
        "print(456)"
      ],
      "metadata": {
        "id": "TZUP26qTanFc",
        "colab": {
          "base_uri": "https://localhost:8080/"
        },
        "outputId": "67e79784-ef91-43c8-e65c-f9d98d762d1f"
      },
      "execution_count": 14,
      "outputs": [
        {
          "output_type": "stream",
          "name": "stdout",
          "text": [
            "123\n",
            "456\n"
          ]
        }
      ]
    },
    {
      "cell_type": "code",
      "source": [
        "# \\r\\n -> CRLF\n",
        "# \\n -> LF\n",
        "print(12, 34, 1011, sep=\"\", end='#')\n",
        "print(56, 78, sep='-', end='\\n')\n",
        "print(9, 10, sep='-', end='\\n')"
      ],
      "metadata": {
        "id": "YIFMglEsaqQr",
        "colab": {
          "base_uri": "https://localhost:8080/"
        },
        "outputId": "ad5390d9-7627-484a-ea38-ee1766c250aa"
      },
      "execution_count": 15,
      "outputs": [
        {
          "output_type": "stream",
          "name": "stdout",
          "text": [
            "12341011#56-78\n",
            "9-10\n"
          ]
        }
      ]
    },
    {
      "cell_type": "code",
      "source": [
        "\n",
        "\"\"\"\n",
        "DocString\n",
        "Python = Linguagem de programação\n",
        "Tipo de tipagem = Dinâmica / Forte\n",
        "str -> string -> texto\n",
        "Strings são textos que estão dentro de aspas\n",
        "\"\"\"\n",
        "print(1234)\n",
        "\n",
        "# Aspas simples\n",
        "print('Luiz Otávio')\n",
        "print(1, 'Luiz \"Otávio\"')\n",
        "\n",
        "# Aspas duplas\n",
        "print(\"Luiz Otávio\")\n",
        "print(2, \"Luiz 'Otávio'\")\n",
        "\n",
        "# Escape\n",
        "print(\"Luiz \\\"Otávio\\\"\")\n",
        "\n",
        "# r\n",
        "print(r\"Luiz \\\"Otávio\\\"\")\n"
      ],
      "metadata": {
        "id": "I2yVx-XKax4u",
        "colab": {
          "base_uri": "https://localhost:8080/"
        },
        "outputId": "4c308f30-645c-4766-8c47-16891593f85d"
      },
      "execution_count": 16,
      "outputs": [
        {
          "output_type": "stream",
          "name": "stdout",
          "text": [
            "1234\n",
            "Luiz Otávio\n",
            "1 Luiz \"Otávio\"\n",
            "Luiz Otávio\n",
            "2 Luiz 'Otávio'\n",
            "Luiz \"Otávio\"\n",
            "Luiz \\\"Otávio\\\"\n"
          ]
        }
      ]
    },
    {
      "cell_type": "code",
      "source": [
        "# Tipos int e float\n",
        "# int -> Número inteiro\n",
        "# O tipo int representa qualquer número\n",
        "# positivo ou negativo. int sem sinal é considerado\n",
        "# positivo.\n",
        "# print(11) # int\n",
        "# print(-11) # int\n",
        "# print(0)\n",
        "\n",
        "# float -> Número com ponto flutuante\n",
        "# O tipo float representa qualquer número\n",
        "# positivo ou negativo com ponto flutuante.\n",
        "# float sem sinal é considerado positivo.\n",
        "# print(1.1, 10.11)\n",
        "# print(0.0, -1.5)\n",
        "\n",
        "# A função type mostra o tipo que o Python\n",
        "# inferiu ao valor.\n",
        "print(type('Otávio'))\n",
        "print(type(0))\n",
        "print(type(1.1), type(-1.1), type(0.0))"
      ],
      "metadata": {
        "id": "x3dOBgXMa7aO",
        "colab": {
          "base_uri": "https://localhost:8080/"
        },
        "outputId": "d629912e-7ea5-4446-eaef-7d11b74983d6"
      },
      "execution_count": 17,
      "outputs": [
        {
          "output_type": "stream",
          "name": "stdout",
          "text": [
            "<class 'str'>\n",
            "<class 'int'>\n",
            "<class 'float'> <class 'float'> <class 'float'>\n"
          ]
        }
      ]
    },
    {
      "cell_type": "code",
      "source": [
        "\n",
        "# Tipo de dado bool (boolean)\n",
        "# Ao questionar algo em um programa,\n",
        "# só existem duas respostas possíveis:\n",
        "# sim (True) ou não (False).\n",
        "# Existem vários operadores para \"questionar\".\n",
        "# Dentre eles o ==, que é um operador lógico que\n",
        "# questiona se um valor é igual a outro\n",
        "print(10 == 10)  # Sim => True (Verdadeiro)\n",
        "print(10 == 11)  # Não => False (Falso)\n",
        "print(type(True))\n",
        "print(type(False))\n",
        "print(type(10 == 10))\n",
        "print(type(10 == 11))\n"
      ],
      "metadata": {
        "id": "4jC7I6NJa_yJ",
        "colab": {
          "base_uri": "https://localhost:8080/"
        },
        "outputId": "5df420fa-b72f-4d8c-84d0-ac2fc4c8a009"
      },
      "execution_count": 18,
      "outputs": [
        {
          "output_type": "stream",
          "name": "stdout",
          "text": [
            "True\n",
            "False\n",
            "<class 'bool'>\n",
            "<class 'bool'>\n",
            "<class 'bool'>\n",
            "<class 'bool'>\n"
          ]
        }
      ]
    },
    {
      "cell_type": "code",
      "source": [
        "\n",
        "# conversão de tipos, coerção\n",
        "# type convertion, typecasting, coercion\n",
        "# é o ato de converter um tipo em outro\n",
        "#  tipos imutáveis e primitivos:\n",
        "# str, int, float, bool\n",
        "print(int('1'), type(int('1')))\n",
        "print(type(float('1') + 1))\n",
        "print(bool(' '))\n",
        "print(str(11) + 'b')\n"
      ],
      "metadata": {
        "id": "SzorTnY5bCtA",
        "colab": {
          "base_uri": "https://localhost:8080/"
        },
        "outputId": "9c85e7ed-c228-4cdc-b78a-95343a8902fb"
      },
      "execution_count": 19,
      "outputs": [
        {
          "output_type": "stream",
          "name": "stdout",
          "text": [
            "1 <class 'int'>\n",
            "<class 'float'>\n",
            "True\n",
            "11b\n"
          ]
        }
      ]
    },
    {
      "cell_type": "code",
      "source": [
        "\n",
        "# Variáveis são usadas para salvar algo na memória do computador.\n",
        "# PEP8: inicie variáveis com letras minúsculas, pode usar\n",
        "# números e underline _.\n",
        "# O sinal de = é o operador de atribuição. Ele é usado para\n",
        "# atribuir um valor a um nome (variável).\n",
        "# Uso: nome_variavel = expressão\n",
        "\n",
        "# nome_completo = 'Luiz Otávio Miranda'\n",
        "# soma_dois_mais_dois = 2 + 2\n",
        "# int_um = bool('1')\n",
        "# print(int_um, type(int_um))\n",
        "# print(nome_completo, soma_dois_mais_dois)\n",
        "\n",
        "nome = 'Luiz'\n",
        "idade = 17\n",
        "maior_de_idade = idade >= 18\n",
        "print('Nome:', nome, 'Idade:', idade)\n",
        "print('É maior?', maior_de_idade)\n"
      ],
      "metadata": {
        "id": "R1DYg43AbHIS",
        "colab": {
          "base_uri": "https://localhost:8080/"
        },
        "outputId": "f82bb2b2-2032-479b-840b-6a15c800ca71"
      },
      "execution_count": 20,
      "outputs": [
        {
          "output_type": "stream",
          "name": "stdout",
          "text": [
            "Nome: Luiz Idade: 17\n",
            "É maior? False\n"
          ]
        }
      ]
    },
    {
      "cell_type": "code",
      "source": [
        "\n",
        "adicao = 10 + 10\n",
        "print('Adição', adicao)\n",
        "\n",
        "subtracao = 10 - 5\n",
        "print('Subtração', subtracao)\n",
        "\n",
        "multiplicacao = 10 * 10\n",
        "print('Multiplicação', multiplicacao)\n",
        "\n",
        "divisao = 10 / 3  # float\n",
        "print('Divisão', divisao)\n",
        "\n",
        "divisao_inteira = 10 // 3\n",
        "print('Divisão inteira', divisao_inteira)\n",
        "\n",
        "exponenciacao = 2 ** 10\n",
        "print('Exponenciação', exponenciacao)\n",
        "\n",
        "modulo = 55 % 2  # resto da divisão\n",
        "print('Módulo', modulo)\n",
        "\n",
        "print(10 % 8 == 0)\n",
        "print(16 % 8 == 0)\n",
        "print(10 % 2 == 0)\n",
        "print(15 % 2 == 0)\n",
        "print(16 % 2 == 0)\n"
      ],
      "metadata": {
        "id": "tX6cbHHVbLvz",
        "colab": {
          "base_uri": "https://localhost:8080/"
        },
        "outputId": "3693d684-79af-41ab-e7b5-88e40812c299"
      },
      "execution_count": 21,
      "outputs": [
        {
          "output_type": "stream",
          "name": "stdout",
          "text": [
            "Adição 20\n",
            "Subtração 5\n",
            "Multiplicação 100\n",
            "Divisão 3.3333333333333335\n",
            "Divisão inteira 3\n",
            "Exponenciação 1024\n",
            "Módulo 1\n",
            "False\n",
            "True\n",
            "True\n",
            "False\n",
            "True\n"
          ]
        }
      ]
    }
  ]
}